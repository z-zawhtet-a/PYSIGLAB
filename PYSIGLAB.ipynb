{
 "cells": [
  {
   "cell_type": "code",
   "execution_count": 1,
   "metadata": {
    "collapsed": true
   },
   "outputs": [],
   "source": [
    "%gui qt\n",
    "import sys\n",
    "import numpy as np\n",
    "import pyqtgraph as pg\n",
    "from pyqtgraph.Qt import QtGui, QtCore\n",
    "from pyqtgraph.Point import Point"
   ]
  },
  {
   "cell_type": "code",
   "execution_count": 5,
   "metadata": {
    "collapsed": false
   },
   "outputs": [],
   "source": [
    "def PYSIGLAB(data):\n",
    "    \"\"\"\n",
    "        SIGLAB : Born out of frustration with the you-know-who\n",
    "    \"\"\"\n",
    "    app_created = False\n",
    "    app = QtCore.QCoreApplication.instance()\n",
    "    if app is None:\n",
    "        app = QtGui.QApplication(sys.argv)\n",
    "        app_created = True\n",
    "    app.references = set()\n",
    "    \n",
    "    \n",
    "    w = QtGui.QWidget()\n",
    "    w.setWindowTitle('SIGLAB')\n",
    "    w.resize(800, 600)\n",
    "    \n",
    "    ## Create a grid layout to manage the widgets size and position\n",
    "    layout = QtGui.QGridLayout()\n",
    "    w.setLayout(layout)\n",
    "    w.show()\n",
    "    \n",
    "    #generate layout\n",
    "    view = pg.GraphicsLayoutWidget()\n",
    "    \n",
    "    p1 = view.addPlot(row=1, col=0)\n",
    "    p2 = view.addPlot(row=2, col=0)\n",
    "\n",
    "    region = pg.LinearRegionItem(brush=(0, 255, 0, 127))\n",
    "    region.setZValue(10)\n",
    "    \n",
    "    p2.addItem(region, ignoreBounds=True)\n",
    "    p1.setAutoVisible(y=True)\n",
    "    \n",
    "    b1 = QtGui.QPushButton('Clean')\n",
    "    b2 = QtGui.QPushButton('Save')\n",
    "    \n",
    "    ## Add widgets to the layout\n",
    "    layout.addWidget(view, 0, 0, 1, 2)\n",
    "    layout.addWidget(b1, 1, 0)   \n",
    "    layout.addWidget(b2, 1, 1)   \n",
    "\n",
    "    p1.plot(data, pen=\"b\")\n",
    "\n",
    "    p2.plot(data, pen=\"w\")\n",
    "\n",
    "    def update():\n",
    "        region.setZValue(20)\n",
    "        minX, maxX = region.getRegion()\n",
    "        p1.setXRange(minX, maxX, padding=0)\n",
    "\n",
    "    region.sigRegionChanged.connect(update)\n",
    "\n",
    "    def updateRegion(window, viewRange):\n",
    "        rgn = viewRange[0]\n",
    "        region.setRegion(rgn)\n",
    "\n",
    "    p1.sigRangeChanged.connect(updateRegion)\n",
    "\n",
    "    region.setRegion([1000, 2000])\n",
    "    \n",
    "    def b1_clicked(evt):\n",
    "        print \"you clicked Clear\"\n",
    "    \n",
    "    b1.clicked.connect(b1_clicked)\n",
    "    \n",
    "    def b2_clicked(evt):\n",
    "        print \"you clicked Save\"\n",
    "        \n",
    "    b2.clicked.connect(b2_clicked)\n",
    "\n",
    "    \n",
    "    if app_created:\n",
    "        app.exec_()\n",
    "    return w"
   ]
  },
  {
   "cell_type": "code",
   "execution_count": 7,
   "metadata": {
    "collapsed": false
   },
   "outputs": [],
   "source": [
    "data = 10000 + 15000 * pg.gaussianFilter(np.random.random(size=10000), 10) + 3000 * np.random.random(size=10000)\n",
    "\n",
    "win = PYSIGLAB(data)"
   ]
  }
 ],
 "metadata": {
  "kernelspec": {
   "display_name": "Python 2",
   "language": "python",
   "name": "python2"
  },
  "language_info": {
   "codemirror_mode": {
    "name": "ipython",
    "version": 2
   },
   "file_extension": ".py",
   "mimetype": "text/x-python",
   "name": "python",
   "nbconvert_exporter": "python",
   "pygments_lexer": "ipython2",
   "version": "2.7.11"
  }
 },
 "nbformat": 4,
 "nbformat_minor": 0
}
