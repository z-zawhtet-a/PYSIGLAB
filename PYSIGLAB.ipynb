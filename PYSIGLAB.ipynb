{
 "cells": [
  {
   "cell_type": "code",
   "execution_count": 1,
   "metadata": {
    "collapsed": true
   },
   "outputs": [],
   "source": [
    "%gui qt\n",
    "import sys\n",
    "import numpy as np\n",
    "import pyqtgraph as pg\n",
    "from pyqtgraph.Qt import QtGui, QtCore\n",
    "from pyqtgraph.Point import Point\n",
    "import pysiglabui"
   ]
  },
  {
   "cell_type": "code",
   "execution_count": 17,
   "metadata": {
    "collapsed": false
   },
   "outputs": [],
   "source": [
    "def PYSIGLAB(data):\n",
    "    \"\"\"\n",
    "        SIGLAB : Born out of frustration with the you-know-who\n",
    "    \"\"\"\n",
    "    app_created = False\n",
    "    app = QtCore.QCoreApplication.instance()\n",
    "    if app is None:\n",
    "        app = QtGui.QApplication(sys.argv)\n",
    "        app_created = True\n",
    "    app.references = set()\n",
    "    \n",
    "    \n",
    "    w = QtGui.QMainWindow()\n",
    "    ui = pysiglabui.Ui_MainWindow()\n",
    "    ui.setupUi(w)\n",
    "    \n",
    "    ui.spinBox_minVal.setMinimum(0)\n",
    "    ui.spinBox_maxVal.setMaximum(1)\n",
    "    ui.spinBox_minVal.setMaximum(data.size-1)\n",
    "    ui.spinBox_maxVal.setMaximum(data.size)\n",
    "    \n",
    "    w.setWindowTitle('SIGLAB')\n",
    "    w.resize(800, 600)\n",
    "    w.show()\n",
    "    \n",
    "#     #generate layout\n",
    "    view = ui.graphicsView\n",
    "    \n",
    "    p1 = view.addPlot(row=1, col=0)\n",
    "    p2 = view.addPlot(row=2, col=0)\n",
    "\n",
    "    region = pg.LinearRegionItem(brush=(0, 255, 0, 127))\n",
    "    region.setZValue(10)\n",
    "    region.setRegion([0, 1000])\n",
    "    \n",
    "    p2.addItem(region, ignoreBounds=True)\n",
    "    p1.setAutoVisible(y=True)\n",
    "    \n",
    "    p1.plot(data, pen=\"b\")\n",
    "\n",
    "    p2.plot(data, pen=\"w\")\n",
    "\n",
    "    def update():\n",
    "        region.setZValue(20)\n",
    "        minX, maxX = region.getRegion()\n",
    "        ui.spinBox_minVal.setValue(minX)\n",
    "        ui.spinBox_maxVal.setValue(maxX)\n",
    "        p1.setXRange(minX, maxX, padding=0)\n",
    "\n",
    "    region.sigRegionChanged.connect(update)\n",
    "\n",
    "    def updateRegion(window, viewRange):\n",
    "        rgn = viewRange[0]\n",
    "        region.setRegion(rgn)\n",
    "    \n",
    "    def updateRegionSpin():\n",
    "        rgn = [ui.spinBox_minVal.value(), ui.spinBox_maxVal.value()]\n",
    "        region.setRegion(rgn)\n",
    "    \n",
    "\n",
    "    p1.sigRangeChanged.connect(updateRegion)\n",
    "    \n",
    "    ui.spinBox_minVal.valueChanged.connect(updateRegionSpin)\n",
    "    ui.spinBox_maxVal.valueChanged.connect(updateRegionSpin)\n",
    "    \n",
    "#     def b1_clicked(evt):\n",
    "#         print \"you clicked Clear\"\n",
    "#         minX, maxX = region.getRegion()\n",
    "#         text, ok = QtGui.QInputDialog.getText(w, 'Input Dialog', 'Enter your name:', 'max:')\n",
    "    \n",
    "#     b1.clicked.connect(b1_clicked)\n",
    "    \n",
    "#     def b2_clicked(evt):\n",
    "#         print \"you clicked Save\"\n",
    "        \n",
    "#     b2.clicked.connect(b2_clicked)\n",
    "\n",
    "    if app_created:\n",
    "        app.exec_()\n",
    "    return w"
   ]
  },
  {
   "cell_type": "code",
   "execution_count": 18,
   "metadata": {
    "collapsed": false
   },
   "outputs": [],
   "source": [
    "data = 10000 + 15000 * pg.gaussianFilter(np.random.random(size=10000), 10) + 3000 * np.random.random(size=10000)\n",
    "\n",
    "win = PYSIGLAB(data)"
   ]
  }
 ],
 "metadata": {
  "kernelspec": {
   "display_name": "Python 2",
   "language": "python",
   "name": "python2"
  },
  "language_info": {
   "codemirror_mode": {
    "name": "ipython",
    "version": 2
   },
   "file_extension": ".py",
   "mimetype": "text/x-python",
   "name": "python",
   "nbconvert_exporter": "python",
   "pygments_lexer": "ipython2",
   "version": "2.7.11"
  }
 },
 "nbformat": 4,
 "nbformat_minor": 0
}
